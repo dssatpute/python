{
 "cells": [
  {
   "cell_type": "code",
   "execution_count": 9,
   "metadata": {},
   "outputs": [
    {
     "name": "stdout",
     "output_type": "stream",
     "text": [
      "      Country Capital\n",
      "0       INDIA   DELHI\n",
      "1  BANGLADESH   DHAKA\n",
      "2   AUSTRALIA  SYDNEY\n"
     ]
    }
   ],
   "source": [
    "import pandas as pd\n",
    "dict1={\"Country\":[\"INDIA\",\"BANGLADESH\",\"AUSTRALIA\"],\n",
    "       \"Capital\":[\"DELHI\",\"DHAKA\",\"SYDNEY\"]}\n",
    "dataframe=pd.DataFrame(dict1)\n",
    "print(dataframe)"
   ]
  },
  {
   "cell_type": "code",
   "execution_count": 11,
   "metadata": {},
   "outputs": [
    {
     "data": {
      "text/plain": [
       "'INDIA'"
      ]
     },
     "execution_count": 11,
     "metadata": {},
     "output_type": "execute_result"
    }
   ],
   "source": [
    "dict1['Country'][0]"
   ]
  },
  {
   "cell_type": "code",
   "execution_count": 21,
   "metadata": {},
   "outputs": [
    {
     "data": {
      "text/plain": [
       "Name        PABLO\n",
       "Age            45\n",
       "Resident    ITALY\n",
       "dtype: object"
      ]
     },
     "execution_count": 21,
     "metadata": {},
     "output_type": "execute_result"
    }
   ],
   "source": [
    "dict2={\"Name\":\"PABLO\",\"Age\":\"45\",\"Resident\":\"ITALY\",}\n",
    "dataframe=pd.Series(dict2,index=[\"Name\",\"Age\",\"Resident\"])\n",
    "dataframe\n"
   ]
  },
  {
   "cell_type": "code",
   "execution_count": 27,
   "metadata": {
    "scrolled": false
   },
   "outputs": [
    {
     "data": {
      "text/html": [
       "<div>\n",
       "<style scoped>\n",
       "    .dataframe tbody tr th:only-of-type {\n",
       "        vertical-align: middle;\n",
       "    }\n",
       "\n",
       "    .dataframe tbody tr th {\n",
       "        vertical-align: top;\n",
       "    }\n",
       "\n",
       "    .dataframe thead th {\n",
       "        text-align: right;\n",
       "    }\n",
       "</style>\n",
       "<table border=\"1\" class=\"dataframe\">\n",
       "  <thead>\n",
       "    <tr style=\"text-align: right;\">\n",
       "      <th></th>\n",
       "      <th>0</th>\n",
       "      <th>1</th>\n",
       "    </tr>\n",
       "  </thead>\n",
       "  <tbody>\n",
       "    <tr>\n",
       "      <th>0</th>\n",
       "      <td>Country</td>\n",
       "      <td>Capital</td>\n",
       "    </tr>\n",
       "    <tr>\n",
       "      <th>1</th>\n",
       "      <td>India</td>\n",
       "      <td>Delhi</td>\n",
       "    </tr>\n",
       "    <tr>\n",
       "      <th>2</th>\n",
       "      <td>Australia</td>\n",
       "      <td>Sydney</td>\n",
       "    </tr>\n",
       "    <tr>\n",
       "      <th>3</th>\n",
       "      <td>Bangladesh</td>\n",
       "      <td>Dhaka</td>\n",
       "    </tr>\n",
       "  </tbody>\n",
       "</table>\n",
       "</div>"
      ],
      "text/plain": [
       "            0        1\n",
       "0     Country  Capital\n",
       "1       India    Delhi\n",
       "2   Australia   Sydney\n",
       "3  Bangladesh    Dhaka"
      ]
     },
     "execution_count": 27,
     "metadata": {},
     "output_type": "execute_result"
    }
   ],
   "source": [
    "l1=['Country','Capital',]\n",
    "l2=['India','Delhi']\n",
    "l3=['Australia','Sydney']\n",
    "l4=['Bangladesh','Dhaka']\n",
    "pd.DataFrame([l1,l2,l3,l4])"
   ]
  },
  {
   "cell_type": "code",
   "execution_count": 37,
   "metadata": {},
   "outputs": [
    {
     "name": "stdout",
     "output_type": "stream",
     "text": [
      "Cricket stats of Sachin Tendulkar\n",
      "    Runs Mins   BF  4s    6s      SR Pos Dismissal Inns      Opposition  \\\n",
      "0     11   92    -   -     0       -   6       lbw    1     v Sri Lanka   \n",
      "1     50  158  118   6     0   42.37   4    caught    1       v England   \n",
      "2      9   17   19   2     0   47.36   4   not out    4       v England   \n",
      "3    165  361  296  24     1   55.74   4    caught    1       v England   \n",
      "4     78  285  213  10     0   36.61   4       lbw    2       v England   \n",
      "5     62  128  114   7     0   54.38   4    caught    1      v Zimbabwe   \n",
      "6     28   74   52   5     0   53.84   4    caught    1     v Sri Lanka   \n",
      "7    104  217  161  11     1   64.59   4   not out    3     v Sri Lanka   \n",
      "8    142  260  224  22     0   63.39   4    caught    1     v Sri Lanka   \n",
      "9     96  180  140  15     0   68.57   4    bowled    1     v Sri Lanka   \n",
      "10     6   25   14   1     0   42.85   4    bowled    2     v Sri Lanka   \n",
      "11    34   70   43   7     0   79.06   4       lbw    1   v West Indies   \n",
      "12    85  178  130  10     1   65.38   5    caught    3   v West Indies   \n",
      "13     4    7    4   1     0     100   4    caught    2   v New Zealand   \n",
      "14     0    3    0   0     0       -   4   not out    4   v New Zealand   \n",
      "15    10   12   11   2     0    90.9   4    caught    2     v Australia   \n",
      "16     0    6    7   0     0       0   4    bowled    4     v Australia   \n",
      "17    42   80   64   7     0   65.62   4    caught    1  v South Africa   \n",
      "18     7   43   33   1     0   21.21   4    caught    3  v South Africa   \n",
      "19    61  211  173   4     1   35.26   4    caught    1  v South Africa   \n",
      "20    36  129   98   4     0   36.73   5    caught    3  v South Africa   \n",
      "21     4    7    5   1     0      80   4    caught    1     v Australia   \n",
      "22   155  286  191  14     4   81.15   4   not out    3     v Australia   \n",
      "23    79  109   86  12     2   91.86   4    caught    2     v Australia   \n",
      "24     6   13   11   1     0   54.54   4       lbw    1      v Pakistan   \n",
      "25    29   99   65   4     0   44.61   4    caught    3      v Pakistan   \n",
      "26    15   76   54   3     0   27.77   4    caught    2   v New Zealand   \n",
      "27    44   58   39   8     0  112.82   4   not out    4   v New Zealand   \n",
      "28    18   63   41   1     0    43.9   5    caught    2    v Bangladesh   \n",
      "29   DNB    -    -   -     -       -   -         -    4    v Bangladesh   \n",
      "..   ...  ...  ...  ..   ...     ...  ..       ...  ...             ...   \n",
      "686    1    0    2   0     2       5   3         1    1       v England   \n",
      "687    7    0   26   1  3.71       6   2         1    1       v England   \n",
      "688   19    0   78   0   4.1       5   4         0    0       v England   \n",
      "689    7    1   32   0  4.57       5   2         0    0      v Pakistan   \n",
      "690    3    0    7   0  2.33       5   4         0    0      v Pakistan   \n",
      "691    1    0    6   0     6       7   2         0    0     v Australia   \n",
      "692  DNB    -    -   -     -       -   1         0    0  v South Africa   \n",
      "693  DNB    -    -   -     -       -   3         0    0  v South Africa   \n",
      "694  DNB    -    -   -     -       -   1         0    0     v Australia   \n",
      "695  DNB    -    -   -     -       -   3         0    0     v Australia   \n",
      "696    1    0    2   0     2       6   2         0    0     v Australia   \n",
      "697  DNB    -    -   -     -       -   4         0    0     v Australia   \n",
      "698  DNB    -    -   -     -       -   2         0    0       v England   \n",
      "699  DNB    -    -   -     -       -   4         0    0       v England   \n",
      "700  DNB    -    -   -     -       -   1         1    1   v New Zealand   \n",
      "701  DNB    -    -   -     -       -   2         0    0   v New Zealand   \n",
      "702    9    0   45   2     5       7   4         0    0   v New Zealand   \n",
      "703    7    0   20   0  2.85       6   2         1    1     v Sri Lanka   \n",
      "704  DNB    -    -   -     -       -   1         0    0     v Sri Lanka   \n",
      "705  DNB    -    -   -     -       -   3         0    0     v Sri Lanka   \n",
      "706    2    0   16   0     8       7   2         0    0   v New Zealand   \n",
      "707  DNB    -    -   -     -       -   4         0    0   v New Zealand   \n",
      "708  DNB    -    -   -     -       -   1         0    0   v New Zealand   \n",
      "709    2    0    7   0   3.5       5   3         0    0   v New Zealand   \n",
      "710  DNB    -    -   -     -       -   1         0    0  v South Africa   \n",
      "711    2    0    9   1   4.5       5   3         0    0  v South Africa   \n",
      "712    6    0   24   0     4       7   1         0    0   v West Indies   \n",
      "713    1    0    5   0     5       6   3         2    2   v West Indies   \n",
      "714  DNB    -    -   -     -       -   1         0    0       v England   \n",
      "715  DNB    -    -   -     -       -   3         0    0       v England   \n",
      "\n",
      "                 Ground Start DateAscending Match Number Result  \n",
      "0            Chandigarh           23-Nov-90  Test # 1156    Won  \n",
      "1               Kolkata           29-Jan-93  Test # 1211    Won  \n",
      "2               Kolkata           29-Jan-93  Test # 1211    Won  \n",
      "3               Chennai           11-Feb-93  Test # 1213    Won  \n",
      "4                Mumbai           19-Feb-93  Test # 1214    Won  \n",
      "5                 Delhi           13-Mar-93  Test # 1218    Won  \n",
      "6         Colombo (SSC)           27-Jul-93  Test # 1228    Won  \n",
      "7         Colombo (SSC)           27-Jul-93  Test # 1228    Won  \n",
      "8               Lucknow           18-Jan-94  Test # 1244    Won  \n",
      "9             Bengaluru           26-Jan-94  Test # 1245    Won  \n",
      "10            Ahmedabad            8-Feb-94  Test # 1247    Won  \n",
      "11               Mumbai           18-Nov-94  Test # 1274    Won  \n",
      "12               Mumbai           18-Nov-94  Test # 1274    Won  \n",
      "13            Bengaluru           18-Oct-95  Test # 1308    Won  \n",
      "14            Bengaluru           18-Oct-95  Test # 1308    Won  \n",
      "15                Delhi           10-Oct-96  Test # 1335    Won  \n",
      "16                Delhi           10-Oct-96  Test # 1335    Won  \n",
      "17            Ahmedabad           20-Nov-96  Test # 1338    Won  \n",
      "18            Ahmedabad           20-Nov-96  Test # 1338    Won  \n",
      "19               Kanpur            8-Dec-96  Test # 1344    Won  \n",
      "20               Kanpur            8-Dec-96  Test # 1344    Won  \n",
      "21              Chennai            6-Mar-98  Test # 1405    Won  \n",
      "22              Chennai            6-Mar-98  Test # 1405    Won  \n",
      "23              Kolkata           18-Mar-98  Test # 1409    Won  \n",
      "24                Delhi            4-Feb-99  Test # 1443    Won  \n",
      "25                Delhi            4-Feb-99  Test # 1443    Won  \n",
      "26               Kanpur           22-Oct-99  Test # 1464    Won  \n",
      "27               Kanpur           22-Oct-99  Test # 1464    Won  \n",
      "28                Dhaka           10-Nov-00  Test # 1512    Won  \n",
      "29                Dhaka           10-Nov-00  Test # 1512    Won  \n",
      "..                  ...                 ...          ...    ...  \n",
      "686              Lord's           19-Jul-07  Test # 1840  Drawn  \n",
      "687            The Oval            9-Aug-07  Test # 1842  Drawn  \n",
      "688            The Oval            9-Aug-07  Test # 1842  Drawn  \n",
      "689             Kolkata           30-Nov-07  Test # 1850  Drawn  \n",
      "690             Kolkata           30-Nov-07  Test # 1850  Drawn  \n",
      "691            Adelaide           24-Jan-08  Test # 1863  Drawn  \n",
      "692             Chennai           26-Mar-08  Test # 1870  Drawn  \n",
      "693             Chennai           26-Mar-08  Test # 1870  Drawn  \n",
      "694           Bengaluru            9-Oct-08  Test # 1887  Drawn  \n",
      "695           Bengaluru            9-Oct-08  Test # 1887  Drawn  \n",
      "696               Delhi           29-Oct-08  Test # 1891  Drawn  \n",
      "697               Delhi           29-Oct-08  Test # 1891  Drawn  \n",
      "698              Mohali           19-Dec-08  Test # 1901  Drawn  \n",
      "699              Mohali           19-Dec-08  Test # 1901  Drawn  \n",
      "700              Napier           26-Mar-09  Test # 1917  Drawn  \n",
      "701          Wellington            3-Apr-09  Test # 1918  Drawn  \n",
      "702          Wellington            3-Apr-09  Test # 1918  Drawn  \n",
      "703           Ahmedabad           16-Nov-09  Test # 1933  Drawn  \n",
      "704       Colombo (SSC)           26-Jul-10  Test # 1966  Drawn  \n",
      "705       Colombo (SSC)           26-Jul-10  Test # 1966  Drawn  \n",
      "706           Ahmedabad            4-Nov-10  Test # 1974  Drawn  \n",
      "707           Ahmedabad            4-Nov-10  Test # 1974  Drawn  \n",
      "708  Hyderabad (Deccan)           12-Nov-10  Test # 1975  Drawn  \n",
      "709  Hyderabad (Deccan)           12-Nov-10  Test # 1975  Drawn  \n",
      "710           Cape Town            2-Jan-11  Test # 1988  Drawn  \n",
      "711           Cape Town            2-Jan-11  Test # 1988  Drawn  \n",
      "712              Mumbai           22-Nov-11  Test # 2019  Drawn  \n",
      "713              Mumbai           22-Nov-11  Test # 2019  Drawn  \n",
      "714              Nagpur           13-Dec-12  Test # 2066  Drawn  \n",
      "715              Nagpur           13-Dec-12  Test # 2066  Drawn  \n",
      "\n",
      "[716 rows x 14 columns]\n"
     ]
    }
   ],
   "source": [
    "print(\"Cricket stats of Sachin Tendulkar\")\n",
    "samp = pd.read_csv(\"Test.csv\")\n",
    "print(samp)"
   ]
  },
  {
   "cell_type": "code",
   "execution_count": 38,
   "metadata": {},
   "outputs": [
    {
     "data": {
      "text/html": [
       "<div>\n",
       "<style scoped>\n",
       "    .dataframe tbody tr th:only-of-type {\n",
       "        vertical-align: middle;\n",
       "    }\n",
       "\n",
       "    .dataframe tbody tr th {\n",
       "        vertical-align: top;\n",
       "    }\n",
       "\n",
       "    .dataframe thead th {\n",
       "        text-align: right;\n",
       "    }\n",
       "</style>\n",
       "<table border=\"1\" class=\"dataframe\">\n",
       "  <thead>\n",
       "    <tr style=\"text-align: right;\">\n",
       "      <th></th>\n",
       "      <th>Runs</th>\n",
       "      <th>Mins</th>\n",
       "      <th>BF</th>\n",
       "      <th>4s</th>\n",
       "      <th>6s</th>\n",
       "      <th>SR</th>\n",
       "      <th>Pos</th>\n",
       "      <th>Dismissal</th>\n",
       "      <th>Inns</th>\n",
       "      <th>Opposition</th>\n",
       "      <th>Ground</th>\n",
       "      <th>Start DateAscending</th>\n",
       "      <th>Match Number</th>\n",
       "      <th>Result</th>\n",
       "    </tr>\n",
       "  </thead>\n",
       "  <tbody>\n",
       "    <tr>\n",
       "      <th>0</th>\n",
       "      <td>11</td>\n",
       "      <td>92</td>\n",
       "      <td>-</td>\n",
       "      <td>-</td>\n",
       "      <td>0</td>\n",
       "      <td>-</td>\n",
       "      <td>6</td>\n",
       "      <td>lbw</td>\n",
       "      <td>1</td>\n",
       "      <td>v Sri Lanka</td>\n",
       "      <td>Chandigarh</td>\n",
       "      <td>23-Nov-90</td>\n",
       "      <td>Test # 1156</td>\n",
       "      <td>Won</td>\n",
       "    </tr>\n",
       "    <tr>\n",
       "      <th>1</th>\n",
       "      <td>50</td>\n",
       "      <td>158</td>\n",
       "      <td>118</td>\n",
       "      <td>6</td>\n",
       "      <td>0</td>\n",
       "      <td>42.37</td>\n",
       "      <td>4</td>\n",
       "      <td>caught</td>\n",
       "      <td>1</td>\n",
       "      <td>v England</td>\n",
       "      <td>Kolkata</td>\n",
       "      <td>29-Jan-93</td>\n",
       "      <td>Test # 1211</td>\n",
       "      <td>Won</td>\n",
       "    </tr>\n",
       "    <tr>\n",
       "      <th>2</th>\n",
       "      <td>9</td>\n",
       "      <td>17</td>\n",
       "      <td>19</td>\n",
       "      <td>2</td>\n",
       "      <td>0</td>\n",
       "      <td>47.36</td>\n",
       "      <td>4</td>\n",
       "      <td>not out</td>\n",
       "      <td>4</td>\n",
       "      <td>v England</td>\n",
       "      <td>Kolkata</td>\n",
       "      <td>29-Jan-93</td>\n",
       "      <td>Test # 1211</td>\n",
       "      <td>Won</td>\n",
       "    </tr>\n",
       "    <tr>\n",
       "      <th>3</th>\n",
       "      <td>165</td>\n",
       "      <td>361</td>\n",
       "      <td>296</td>\n",
       "      <td>24</td>\n",
       "      <td>1</td>\n",
       "      <td>55.74</td>\n",
       "      <td>4</td>\n",
       "      <td>caught</td>\n",
       "      <td>1</td>\n",
       "      <td>v England</td>\n",
       "      <td>Chennai</td>\n",
       "      <td>11-Feb-93</td>\n",
       "      <td>Test # 1213</td>\n",
       "      <td>Won</td>\n",
       "    </tr>\n",
       "    <tr>\n",
       "      <th>4</th>\n",
       "      <td>78</td>\n",
       "      <td>285</td>\n",
       "      <td>213</td>\n",
       "      <td>10</td>\n",
       "      <td>0</td>\n",
       "      <td>36.61</td>\n",
       "      <td>4</td>\n",
       "      <td>lbw</td>\n",
       "      <td>2</td>\n",
       "      <td>v England</td>\n",
       "      <td>Mumbai</td>\n",
       "      <td>19-Feb-93</td>\n",
       "      <td>Test # 1214</td>\n",
       "      <td>Won</td>\n",
       "    </tr>\n",
       "  </tbody>\n",
       "</table>\n",
       "</div>"
      ],
      "text/plain": [
       "  Runs Mins   BF  4s 6s     SR Pos Dismissal Inns   Opposition      Ground  \\\n",
       "0   11   92    -   -  0      -   6       lbw    1  v Sri Lanka  Chandigarh   \n",
       "1   50  158  118   6  0  42.37   4    caught    1    v England     Kolkata   \n",
       "2    9   17   19   2  0  47.36   4   not out    4    v England     Kolkata   \n",
       "3  165  361  296  24  1  55.74   4    caught    1    v England     Chennai   \n",
       "4   78  285  213  10  0  36.61   4       lbw    2    v England      Mumbai   \n",
       "\n",
       "  Start DateAscending Match Number Result  \n",
       "0           23-Nov-90  Test # 1156    Won  \n",
       "1           29-Jan-93  Test # 1211    Won  \n",
       "2           29-Jan-93  Test # 1211    Won  \n",
       "3           11-Feb-93  Test # 1213    Won  \n",
       "4           19-Feb-93  Test # 1214    Won  "
      ]
     },
     "execution_count": 38,
     "metadata": {},
     "output_type": "execute_result"
    }
   ],
   "source": [
    "samp.head()"
   ]
  },
  {
   "cell_type": "code",
   "execution_count": 39,
   "metadata": {},
   "outputs": [
    {
     "name": "stdout",
     "output_type": "stream",
     "text": [
      "<class 'pandas.core.frame.DataFrame'>\n",
      "RangeIndex: 716 entries, 0 to 715\n",
      "Data columns (total 14 columns):\n",
      "Runs                   716 non-null object\n",
      "Mins                   716 non-null object\n",
      "BF                     716 non-null object\n",
      "4s                     716 non-null object\n",
      "6s                     716 non-null object\n",
      "SR                     716 non-null object\n",
      "Pos                    716 non-null object\n",
      "Dismissal              716 non-null object\n",
      "Inns                   716 non-null object\n",
      "Opposition             716 non-null object\n",
      "Ground                 716 non-null object\n",
      "Start DateAscending    716 non-null object\n",
      "Match Number           716 non-null object\n",
      "Result                 716 non-null object\n",
      "dtypes: object(14)\n",
      "memory usage: 78.4+ KB\n"
     ]
    }
   ],
   "source": [
    "samp.info()"
   ]
  },
  {
   "cell_type": "markdown",
   "metadata": {},
   "source": [
    "samp.size()"
   ]
  },
  {
   "cell_type": "code",
   "execution_count": 41,
   "metadata": {},
   "outputs": [
    {
     "data": {
      "text/plain": [
       "10024"
      ]
     },
     "execution_count": 41,
     "metadata": {},
     "output_type": "execute_result"
    }
   ],
   "source": [
    "samp.size"
   ]
  },
  {
   "cell_type": "code",
   "execution_count": null,
   "metadata": {},
   "outputs": [],
   "source": []
  },
  {
   "cell_type": "code",
   "execution_count": null,
   "metadata": {},
   "outputs": [],
   "source": []
  },
  {
   "cell_type": "code",
   "execution_count": null,
   "metadata": {},
   "outputs": [],
   "source": []
  },
  {
   "cell_type": "code",
   "execution_count": null,
   "metadata": {},
   "outputs": [],
   "source": []
  }
 ],
 "metadata": {
  "kernelspec": {
   "display_name": "Python 3",
   "language": "python",
   "name": "python3"
  },
  "language_info": {
   "codemirror_mode": {
    "name": "ipython",
    "version": 3
   },
   "file_extension": ".py",
   "mimetype": "text/x-python",
   "name": "python",
   "nbconvert_exporter": "python",
   "pygments_lexer": "ipython3",
   "version": "3.7.1"
  }
 },
 "nbformat": 4,
 "nbformat_minor": 2
}
